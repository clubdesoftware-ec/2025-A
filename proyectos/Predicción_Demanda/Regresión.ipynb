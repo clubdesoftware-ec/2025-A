{
 "cells": [
  {
   "cell_type": "code",
   "execution_count": 2,
   "metadata": {},
   "outputs": [],
   "source": [
    "import pandas as pd\n",
    "import numpy as np\n",
    "import matplotlib.pyplot as plt\n",
    "from sklearn.linear_model import LinearRegression\n",
    "import matplotlib.pyplot as plt"
   ]
  },
  {
   "cell_type": "markdown",
   "metadata": {},
   "source": []
  },
  {
   "cell_type": "code",
   "execution_count": 3,
   "metadata": {},
   "outputs": [],
   "source": [
    "# Cargar el archivo (ajusta el nomre del archivo)\n",
    "df = pd.read_excel(r\"BROCOLI CONGELADO 2023.xlsx\")"
   ]
  },
  {
   "cell_type": "code",
   "execution_count": 4,
   "metadata": {},
   "outputs": [
    {
     "name": "stderr",
     "output_type": "stream",
     "text": [
      "C:\\Users\\DIEGO\\AppData\\Local\\Temp\\ipykernel_4064\\2226708941.py:2: SettingWithCopyWarning: \n",
      "A value is trying to be set on a copy of a slice from a DataFrame.\n",
      "Try using .loc[row_indexer,col_indexer] = value instead\n",
      "\n",
      "See the caveats in the documentation: https://pandas.pydata.org/pandas-docs/stable/user_guide/indexing.html#returning-a-view-versus-a-copy\n",
      "  entradallm[\"KGS_TOTAL\"]= entradallm[\"KGS NETO\"]*entradallm[\"ITEM\"]\n"
     ]
    }
   ],
   "source": [
    "entradallm = df[[\"FECHA DESPACHO\",\"KGS NETO\", \"PAIS DESTINO\",\"FOB U$S\", \"ITEM\"]]\n",
    "entradallm[\"KGS_TOTAL\"]= entradallm[\"KGS NETO\"]*entradallm[\"ITEM\"]\n",
    "entradallm = entradallm.drop([\"KGS NETO\", \"ITEM\"],axis=1)\n",
    "\n",
    "entradallm = entradallm.sort_values(\"FECHA DESPACHO\")\n",
    "\n",
    "entradallm[\"AÑO\"] = entradallm[\"FECHA DESPACHO\"].dt.year\n",
    "entradallm[\"SEMANA\"] = entradallm[\"FECHA DESPACHO\"].dt.isocalendar().week\n",
    "entradallm = entradallm.drop(\"FECHA DESPACHO\",axis=1)\n",
    "\n",
    "entradallm = entradallm.groupby([\"AÑO\", \"SEMANA\", \"PAIS DESTINO\"]).sum().reset_index()\n",
    "\n",
    "entradallm = entradallm.sort_values(\"SEMANA\",ascending=True)\n",
    "entradallm = entradallm"
   ]
  },
  {
   "cell_type": "code",
   "execution_count": 5,
   "metadata": {},
   "outputs": [],
   "source": [
    "entradallm[\"US/KG\"] = entradallm[\"FOB U$S\"]/entradallm[\"KGS_TOTAL\"]"
   ]
  },
  {
   "cell_type": "code",
   "execution_count": 6,
   "metadata": {},
   "outputs": [],
   "source": [
    "def eval_pais(pais, fun_predict):\n",
    "    country = entradallm.loc[entradallm[\"PAIS DESTINO\"] == pais]\n",
    "    data_predict = country.loc[entradallm[\"SEMANA\"] == 52]\n",
    "    if data_predict.empty:\n",
    "       # print(\"No hay datos para el país\")\n",
    "        return None\n",
    "    data_past = country.loc[entradallm[\"SEMANA\"] < 52]\n",
    "    data_predict = data_predict[\"US/KG\"].iloc[0]\n",
    "    X = data_past[[\"SEMANA\"]]\n",
    "    y = data_past[\"US/KG\"]\n",
    "    y = y.fillna(y.mean())\n",
    "    prediccion = fun_predict(X, y, 52)\n",
    "    #print(data_predict - prediccion)\n",
    "    return data_predict - prediccion       # Funcional programming\n"
   ]
  },
  {
   "cell_type": "code",
   "execution_count": 7,
   "metadata": {},
   "outputs": [],
   "source": [
    "def predict_rolling(X, y, semana):\n",
    "    rollin = y.rolling(window=3).mean()\n",
    "    return rollin.iloc[-1]"
   ]
  },
  {
   "cell_type": "code",
   "execution_count": 8,
   "metadata": {},
   "outputs": [
    {
     "data": {
      "text/plain": [
       "np.float64(0.26796757137439864)"
      ]
     },
     "execution_count": 8,
     "metadata": {},
     "output_type": "execute_result"
    }
   ],
   "source": [
    "paises = entradallm[\"PAIS DESTINO\"].unique()\n",
    "errores = [eval_pais(pais, predict_rolling) for pais in paises]   #list comprehension, es más rápido que un for\n",
    "errores = np.array([e for e in errores if e is not None])\n",
    "np.mean(errores**2)"
   ]
  },
  {
   "cell_type": "code",
   "execution_count": null,
   "metadata": {},
   "outputs": [],
   "source": [
    "plt.plot(germany[\"SEMANA\"],germany[\"US/KG\"].rolling(window=3).mean())\n",
    "plt.scatter(52, germany[germany[\"SEMANA\"]==52][\"US/KG\"],  color=\"red\")\n",
    "plt.show()"
   ]
  },
  {
   "cell_type": "code",
   "execution_count": null,
   "metadata": {},
   "outputs": [],
   "source": [
    "X = data_past[[\"SEMANA\"]]\n",
    "y = data_past[\"US/KG\"].rolling(window=3).mean()\n",
    "y = y.fillna(y.mean())"
   ]
  },
  {
   "cell_type": "code",
   "execution_count": 12,
   "metadata": {},
   "outputs": [
    {
     "ename": "NameError",
     "evalue": "name 'X' is not defined",
     "output_type": "error",
     "traceback": [
      "\u001b[1;31m---------------------------------------------------------------------------\u001b[0m",
      "\u001b[1;31mNameError\u001b[0m                                 Traceback (most recent call last)",
      "Cell \u001b[1;32mIn[12], line 3\u001b[0m\n\u001b[0;32m      1\u001b[0m \u001b[38;5;66;03m# Crear y entrenar el modelo de regresión lineal\u001b[39;00m\n\u001b[0;32m      2\u001b[0m model \u001b[38;5;241m=\u001b[39m LinearRegression()\n\u001b[1;32m----> 3\u001b[0m model\u001b[38;5;241m.\u001b[39mfit(\u001b[43mX\u001b[49m, y)\n\u001b[0;32m      5\u001b[0m \u001b[38;5;66;03m# Coeficientes de la regresión\u001b[39;00m\n\u001b[0;32m      6\u001b[0m slope \u001b[38;5;241m=\u001b[39m model\u001b[38;5;241m.\u001b[39mcoef_[\u001b[38;5;241m0\u001b[39m]  \u001b[38;5;66;03m# Pendiente\u001b[39;00m\n",
      "\u001b[1;31mNameError\u001b[0m: name 'X' is not defined"
     ]
    }
   ],
   "source": [
    "# Crear y entrenar el modelo de regresión lineal\n",
    "model = LinearRegression()\n",
    "model.fit(X, y)\n",
    "\n",
    "# Coeficientes de la regresión\n",
    "slope = model.coef_[0]  # Pendiente\n",
    "intercept = model.intercept_  # Intersección\n",
    "\n",
    "print(f\"Pendiente (slope): {slope}\")\n",
    "print(f\"Intersección (intercept): {intercept}\")\n",
    "\n",
    "# Predicciones\n",
    "prediccion = model.predict(germany[[\"SEMANA\"]])\n",
    "\n",
    "# Visualización de los datos y la línea de regresión\n",
    "plt.scatter(germany[\"SEMANA\"], germany[\"US/KG\"], color='blue', label='Datos reales')\n",
    "plt.plot(germany[\"SEMANA\"], prediccion, color='red', label='Línea de regresión')\n",
    "plt.xlabel('Semana')\n",
    "plt.ylabel('US/kG')\n",
    "plt.title('Regresión Lineal: Semana vs US/kG')\n",
    "plt.legend()\n",
    "plt.show()"
   ]
  },
  {
   "cell_type": "code",
   "execution_count": 13,
   "metadata": {},
   "outputs": [],
   "source": [
    "#Actualizado"
   ]
  },
  {
   "cell_type": "code",
   "execution_count": null,
   "metadata": {},
   "outputs": [],
   "source": []
  }
 ],
 "metadata": {
  "kernelspec": {
   "display_name": "Python 3",
   "language": "python",
   "name": "python3"
  },
  "language_info": {
   "codemirror_mode": {
    "name": "ipython",
    "version": 3
   },
   "file_extension": ".py",
   "mimetype": "text/x-python",
   "name": "python",
   "nbconvert_exporter": "python",
   "pygments_lexer": "ipython3",
   "version": "3.10.4"
  }
 },
 "nbformat": 4,
 "nbformat_minor": 2
}
